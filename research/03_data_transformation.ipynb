{
 "cells": [
  {
   "cell_type": "code",
   "execution_count": 1,
   "metadata": {},
   "outputs": [],
   "source": [
    "import os"
   ]
  },
  {
   "cell_type": "code",
   "execution_count": 2,
   "metadata": {},
   "outputs": [
    {
     "data": {
      "text/plain": [
       "'c:\\\\Users\\\\User\\\\Desktop\\\\Project Anchor\\\\End-to-End-ML-with-MLflow\\\\research'"
      ]
     },
     "execution_count": 2,
     "metadata": {},
     "output_type": "execute_result"
    }
   ],
   "source": [
    "%pwd"
   ]
  },
  {
   "cell_type": "code",
   "execution_count": 3,
   "metadata": {},
   "outputs": [],
   "source": [
    "os.chdir(\"../\")"
   ]
  },
  {
   "cell_type": "code",
   "execution_count": 4,
   "metadata": {},
   "outputs": [
    {
     "data": {
      "text/plain": [
       "'c:\\\\Users\\\\User\\\\Desktop\\\\Project Anchor\\\\End-to-End-ML-with-MLflow'"
      ]
     },
     "execution_count": 4,
     "metadata": {},
     "output_type": "execute_result"
    }
   ],
   "source": [
    "%pwd"
   ]
  },
  {
   "cell_type": "code",
   "execution_count": 20,
   "metadata": {},
   "outputs": [],
   "source": [
    "from dataclasses import dataclass\n",
    "from pathlib import Path\n",
    "\n",
    "# Data Transformation configuration entity\n",
    "@dataclass(frozen=True)\n",
    "class DataTransformationConfig:\n",
    "    \"\"\"\n",
    "    Configuration class for Data Transformation.\n",
    "\n",
    "    Attributes:\n",
    "    - root_dir (Path): The root directory for data transformation.\n",
    "    - data_path (Path): The path to the data.\n",
    "    \"\"\"\n",
    "    root_dir: Path\n",
    "    data_path: Path\n"
   ]
  },
  {
   "cell_type": "code",
   "execution_count": 21,
   "metadata": {},
   "outputs": [],
   "source": [
    "from mlProject.constants import *\n",
    "from mlProject.utils.common import read_yaml,create_directories"
   ]
  },
  {
   "cell_type": "code",
   "execution_count": 22,
   "metadata": {},
   "outputs": [],
   "source": [
    "# configuration manager for src\n",
    "class ConfigurationManager:\n",
    "    def __init__(\n",
    "        self,\n",
    "        config_filepath = CONFIG_FILE_PATH,\n",
    "        params_filepath = PARAMS_FILE_PATH,\n",
    "        schema_filepath = SCHEMA_FILE_PATH):\n",
    "\n",
    "        self.config = read_yaml(config_filepath)\n",
    "        self.params = read_yaml(params_filepath)\n",
    "        self.schema = read_yaml(schema_filepath)\n",
    "\n",
    "        create_directories([self.config.artifacts_root])\n",
    "\n",
    "\n",
    "    \n",
    "    def get_data_transformation_config(self) -> DataTransformationConfig:\n",
    "        config = self.config.data_transformation\n",
    "\n",
    "        create_directories([config.root_dir])\n",
    "\n",
    "        data_transformation_config = DataTransformationConfig(\n",
    "            root_dir=config.root_dir,\n",
    "            data_path=config.data_path,\n",
    "        )\n",
    "\n",
    "        return data_transformation_config"
   ]
  },
  {
   "cell_type": "code",
   "execution_count": 23,
   "metadata": {},
   "outputs": [],
   "source": [
    "import os\n",
    "from mlProject import logger\n",
    "from sklearn.model_selection import train_test_split\n",
    "import pandas as pd"
   ]
  },
  {
   "cell_type": "code",
   "execution_count": 24,
   "metadata": {},
   "outputs": [],
   "source": [
    "#components\n",
    "class DataTransformation:\n",
    "    def __init__(self, config: DataTransformationConfig):\n",
    "        \"\"\"\n",
    "        Constructor for DataTransformation class.\n",
    "\n",
    "        Args:\n",
    "            config (DataTransformationConfig): Configuration object for data transformation.\n",
    "        \"\"\"\n",
    "        self.config = config\n",
    "\n",
    "        # NB: We can add several data transformation techniques such as scalar, PCA, and all.\n",
    "        # We can perform all kinds of EDA in the ML cycle here before passing the data to the model,\n",
    "        # but since I'm using clean data, I'll proceed.\n",
    "\n",
    "    def train_test_split(self):\n",
    "        \"\"\"\n",
    "        Splits the data into training and test sets.\n",
    "        \"\"\"\n",
    "        # Read data from CSV file\n",
    "        data = pd.read_csv(self.config.data_path)\n",
    "\n",
    "        # Split the data into training and test sets (0.75, 0.25).\n",
    "        train, test = train_test_split(data, test_size=0.25, random_state=42)\n",
    "\n",
    "        # Save the split data to CSV files.\n",
    "        train.to_csv(os.path.join(self.config.root_dir, \"train.csv\"), index=False)\n",
    "        test.to_csv(os.path.join(self.config.root_dir, \"test.csv\"), index=False)\n",
    "\n",
    "        # Log information about the split data.\n",
    "        logger = logging.getLogger(__name__)\n",
    "        logger.info(\"Split data into training and test sets\")\n",
    "        logger.info(f\"Training data shape: {train.shape}\")\n",
    "        logger.info(f\"Test data shape: {test.shape}\")\n",
    "\n",
    "        # Print information about the split data.\n",
    "        print(f\"Training data shape: {train.shape}\")\n",
    "        print(f\"Test data shape: {test.shape}\")\n"
   ]
  },
  {
   "cell_type": "code",
   "execution_count": 26,
   "metadata": {},
   "outputs": [
    {
     "name": "stdout",
     "output_type": "stream",
     "text": [
      "[2024-03-08 17:25:08,295: INFO: common: yaml file: config\\config.yaml loaded successfully]\n",
      "[2024-03-08 17:25:08,296: INFO: common: yaml file: params.yaml loaded successfully]\n",
      "[2024-03-08 17:25:08,310: INFO: common: yaml file: schema.yaml loaded successfully]\n",
      "[2024-03-08 17:25:08,313: INFO: common: created directory at: artifacts]\n",
      "[2024-03-08 17:25:08,315: INFO: common: created directory at: artifacts/data_transformation]\n",
      "[2024-03-08 17:25:08,388: INFO: 1621353329: Split data into training and test sets]\n",
      "[2024-03-08 17:25:08,388: INFO: 1621353329: Training data shape: (1199, 12)]\n",
      "[2024-03-08 17:25:08,388: INFO: 1621353329: Test data shape: (400, 12)]\n",
      "Training data shape: (1199, 12)\n",
      "Test data shape: (400, 12)\n"
     ]
    }
   ],
   "source": [
    "# Update Pipeline\n",
    "try:\n",
    "    # Load configuration manager to retrieve data transformation configuration\n",
    "    config = ConfigurationManager()\n",
    "    data_transformation_config = config.get_data_transformation_config()\n",
    "\n",
    "    # Instantiate DataTransformation object with the retrieved configuration\n",
    "    data_transformation = DataTransformation(config=data_transformation_config)\n",
    "    \n",
    "    # Perform train-test splitting as part of the data transformation process\n",
    "    data_transformation.train_test_split()\n",
    "\n",
    "except Exception as e:\n",
    "    # Raise any exceptions that occur during the pipeline execution for further handling\n",
    "    raise e\n"
   ]
  }
 ],
 "metadata": {
  "kernelspec": {
   "display_name": "mlproject",
   "language": "python",
   "name": "python3"
  },
  "language_info": {
   "codemirror_mode": {
    "name": "ipython",
    "version": 3
   },
   "file_extension": ".py",
   "mimetype": "text/x-python",
   "name": "python",
   "nbconvert_exporter": "python",
   "pygments_lexer": "ipython3",
   "version": "3.8.18"
  }
 },
 "nbformat": 4,
 "nbformat_minor": 2
}
